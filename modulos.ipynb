{
  "nbformat": 4,
  "nbformat_minor": 0,
  "metadata": {
    "colab": {
      "provenance": [],
      "authorship_tag": "ABX9TyMGegeTruIpQeMH3pca79Mm",
      "include_colab_link": true
    },
    "kernelspec": {
      "name": "python3",
      "display_name": "Python 3"
    },
    "language_info": {
      "name": "python"
    }
  },
  "cells": [
    {
      "cell_type": "markdown",
      "metadata": {
        "id": "view-in-github",
        "colab_type": "text"
      },
      "source": [
        "<a href=\"https://colab.research.google.com/github/Blackzitos/Estudos_Python/blob/main/modulos.ipynb\" target=\"_parent\"><img src=\"https://colab.research.google.com/assets/colab-badge.svg\" alt=\"Open In Colab\"/></a>"
      ]
    },
    {
      "cell_type": "markdown",
      "source": [
        "**MÓDULO1-INÍCIO**"
      ],
      "metadata": {
        "id": "p6seScD9k_il"
      }
    },
    {
      "cell_type": "code",
      "execution_count": null,
      "metadata": {
        "colab": {
          "base_uri": "https://localhost:8080/"
        },
        "id": "u6wYOQ9XJEEl",
        "outputId": "e59bae8d-7c72-4898-e34c-a39ac23aa694"
      },
      "outputs": [
        {
          "output_type": "stream",
          "name": "stdout",
          "text": [
            "<class 'int'>\n",
            "10\n",
            "<class 'float'>\n",
            "10.0\n",
            "<class 'int'>\n",
            "10\n",
            "<class 'str'>\n",
            "10\n",
            "100\n",
            "20\n",
            "3\n",
            "3.3333333333333335\n",
            "1\n",
            "hello world\n",
            "False\n",
            "True\n"
          ]
        }
      ],
      "source": [
        "width = 10\n",
        "print(type(width))\n",
        "print(width)\n",
        "\n",
        "width_float = float(width)\n",
        "print(type(width_float))\n",
        "print(width_float)\n",
        "\n",
        "width_int = int(width_float)\n",
        "print(type(width_int))\n",
        "print(width_int)\n",
        "\n",
        "width_str = str(width_int)\n",
        "print(type(width_str))\n",
        "print(width_str)\n",
        "\n",
        "print(10**2)\n",
        "print(10*2)\n",
        "print(10//3)\n",
        "print(10/3)\n",
        "print(10%3)\n",
        "print(\"hello\" + \" world\")\n",
        "print(8<3)\n",
        "print(\"hello\" < \"world\")"
      ]
    },
    {
      "cell_type": "code",
      "source": [
        "class Solution(object):\n",
        "    def isPalindrome(self, x):\n",
        "      x_Str = str(x)\n",
        "      if x_Str == x_Str[::-1]:\n",
        "          print(\"Is palindrome!\")\n",
        "      else:\n",
        "          print(\"Isnt palindrome!\")\n",
        "\n",
        "sol = Solution()\n",
        "sol.isPalindrome(121)\n",
        "\n",
        "\n"
      ],
      "metadata": {
        "colab": {
          "base_uri": "https://localhost:8080/"
        },
        "id": "3Cm8RsgYkPZD",
        "outputId": "cb3a8e70-d9ad-42bc-afdb-3dc515aeeef2"
      },
      "execution_count": null,
      "outputs": [
        {
          "output_type": "stream",
          "name": "stdout",
          "text": [
            "Is palindrome!\n"
          ]
        }
      ]
    },
    {
      "cell_type": "code",
      "source": [
        "x = 7\n",
        "y = 14\n",
        "\n",
        "\n",
        "if (2*x == y):\n",
        "  print(\"y is double of x\")\n",
        "elif (x**2 == y):\n",
        "  print(\"y is the squared of x\")\n",
        "else:\n",
        "  print(\"y is NOT double of x\")"
      ],
      "metadata": {
        "colab": {
          "base_uri": "https://localhost:8080/"
        },
        "id": "1pH6wq1RaB3t",
        "outputId": "f143a5ff-06b4-401a-979d-950e6c882bbc"
      },
      "execution_count": null,
      "outputs": [
        {
          "output_type": "stream",
          "name": "stdout",
          "text": [
            "y is double of x\n"
          ]
        }
      ]
    },
    {
      "cell_type": "code",
      "source": [
        "def switcher(number):\n",
        "\n",
        "  # Use dicionário (do Módulo 3) para armazenar switch cases\n",
        "  # Se não for encontrado, o get() será o valor padrão\n",
        "  return {\n",
        "    0:\"Entered 0\",\n",
        "    1:\"Entered 1\",\n",
        "    2:\"Entered 2\",\n",
        "    3:\"Entered 3\",\n",
        "    4:\"Entered 4\",\n",
        "    5:\"Entered 5\",\n",
        "    6:\"Entered 6\",\n",
        "    7:\"Entered 7\",\n",
        "    8:\"Entered 8\",\n",
        "    9:\"Entered 9\",\n",
        "  }.get(number,\"Invalid number!\")\n",
        "\n",
        "\n",
        "# input() lê uma entrado do usuário de stdin\n",
        "number = int(input(\"Dial a number: \"))\n",
        "switcher(number)"
      ],
      "metadata": {
        "colab": {
          "base_uri": "https://localhost:8080/",
          "height": 53
        },
        "id": "VnYBcN2Pal3h",
        "outputId": "8dae5c11-d04d-40ba-b5cf-1ce775ed1e82"
      },
      "execution_count": null,
      "outputs": [
        {
          "name": "stdout",
          "output_type": "stream",
          "text": [
            "Dial a number: 3\n"
          ]
        },
        {
          "output_type": "execute_result",
          "data": {
            "text/plain": [
              "'Entered 3'"
            ],
            "application/vnd.google.colaboratory.intrinsic+json": {
              "type": "string"
            }
          },
          "metadata": {},
          "execution_count": 26
        }
      ]
    },
    {
      "cell_type": "code",
      "source": [
        "number = int(input(\"Dial a number: \"))\n",
        "\n",
        "if number == 0:\n",
        "  print(\"Entered 0\")\n",
        "elif number == 1:\n",
        "  print(\"Entered 1\")\n",
        "elif number == 2:\n",
        "  print(\"Entered 2\")\n",
        "elif number == 3:\n",
        "  print(\"Entered 3\")\n",
        "elif number == 4:\n",
        "  print(\"Entered 4\")\n",
        "elif number == 5:\n",
        "  print(\"Entered 5\")\n",
        "elif number == 6:\n",
        "  print(\"Entered 6\")\n",
        "elif number == 7:\n",
        "  print(\"Entered 7\")\n",
        "elif number == 8:\n",
        "  print(\"Entered 8\")\n",
        "elif number == 9:\n",
        "  print(\"Entered 9\")\n",
        "else:\n",
        "  print(\"Invalid number!\")"
      ],
      "metadata": {
        "colab": {
          "base_uri": "https://localhost:8080/"
        },
        "id": "xCmX6LTodDss",
        "outputId": "5b01531c-c404-4b27-a6f2-89fa3e3d2bf4"
      },
      "execution_count": null,
      "outputs": [
        {
          "output_type": "stream",
          "name": "stdout",
          "text": [
            "Dial a number: 3\n",
            "Entered 3\n"
          ]
        }
      ]
    },
    {
      "cell_type": "markdown",
      "source": [
        "**MÓDULO2-INÍCIO**"
      ],
      "metadata": {
        "id": "C9YL7S-UlUnH"
      }
    },
    {
      "cell_type": "code",
      "source": [
        "for i in range(0,10,2):\n",
        "  print(i)"
      ],
      "metadata": {
        "colab": {
          "base_uri": "https://localhost:8080/"
        },
        "id": "3a_2aQvZlYLX",
        "outputId": "50d8b630-86e0-4458-8198-808bdaaa57b9"
      },
      "execution_count": null,
      "outputs": [
        {
          "output_type": "stream",
          "name": "stdout",
          "text": [
            "0\n",
            "2\n",
            "4\n",
            "6\n",
            "8\n"
          ]
        }
      ]
    },
    {
      "cell_type": "code",
      "source": [
        "for i in range(2, 10+1):\n",
        "  print(i)"
      ],
      "metadata": {
        "colab": {
          "base_uri": "https://localhost:8080/"
        },
        "id": "tMc1KKz7w4k6",
        "outputId": "081d7fc2-6b92-41f4-ad43-7c6d19fb936a"
      },
      "execution_count": null,
      "outputs": [
        {
          "output_type": "stream",
          "name": "stdout",
          "text": [
            "2\n",
            "3\n",
            "4\n",
            "5\n",
            "6\n",
            "7\n",
            "8\n",
            "9\n",
            "10\n"
          ]
        }
      ]
    },
    {
      "cell_type": "code",
      "source": [
        "for i in range(0, 10, 3):\n",
        "  print(i)"
      ],
      "metadata": {
        "colab": {
          "base_uri": "https://localhost:8080/"
        },
        "id": "ur1jyKBexMxn",
        "outputId": "d4c84e09-1caa-4680-eddc-d0be9f475f95"
      },
      "execution_count": null,
      "outputs": [
        {
          "output_type": "stream",
          "name": "stdout",
          "text": [
            "0\n",
            "3\n",
            "6\n",
            "9\n"
          ]
        }
      ]
    },
    {
      "cell_type": "code",
      "source": [
        "for i in \"hello!\":\n",
        "  print(i)"
      ],
      "metadata": {
        "colab": {
          "base_uri": "https://localhost:8080/"
        },
        "id": "8WbNPLF0xSVQ",
        "outputId": "6106334e-b870-49fd-843f-cc1912038d59"
      },
      "execution_count": null,
      "outputs": [
        {
          "output_type": "stream",
          "name": "stdout",
          "text": [
            "h\n",
            "e\n",
            "l\n",
            "l\n",
            "o\n",
            "!\n"
          ]
        }
      ]
    },
    {
      "cell_type": "code",
      "source": [
        "string = \"hello world!\"\n",
        "for i in range(0, len(string), 2):\n",
        "  print(str(i) + \"th letter is \"+ string[i])"
      ],
      "metadata": {
        "colab": {
          "base_uri": "https://localhost:8080/"
        },
        "id": "DcZfY5frxePp",
        "outputId": "90ffee7e-05fa-4148-ff49-509025fc99bb"
      },
      "execution_count": null,
      "outputs": [
        {
          "output_type": "stream",
          "name": "stdout",
          "text": [
            "0th letter is h\n",
            "2th letter is l\n",
            "4th letter is o\n",
            "6th letter is w\n",
            "8th letter is r\n",
            "10th letter is d\n"
          ]
        }
      ]
    },
    {
      "cell_type": "code",
      "source": [
        "#  Nota: sem a atualização da variável no loop while, este será um loop INFINITO!!\n",
        "\n",
        "count = 0\n",
        "n = int(input(\"Digite um número de range\"))\n",
        "\n",
        "while (count < n+1):\n",
        "  print(count)\n",
        "\n",
        "  # IMPORTANTE!!! Atualize o contador!\n",
        "  count += 1"
      ],
      "metadata": {
        "colab": {
          "base_uri": "https://localhost:8080/"
        },
        "id": "kDZbkUtdyDIM",
        "outputId": "9c3768c2-3731-4a30-ddee-7b52c3ab3497"
      },
      "execution_count": null,
      "outputs": [
        {
          "output_type": "stream",
          "name": "stdout",
          "text": [
            "Digite um número de range5\n",
            "0\n",
            "1\n",
            "2\n",
            "3\n",
            "4\n",
            "5\n"
          ]
        }
      ]
    },
    {
      "cell_type": "code",
      "source": [
        "# Considere um programa que ecoe o input do usuário, exceto pelo \"end\".\n",
        "# Este programa roda infinitamente, exceto quando o usuário insere \"end\" para terminá-lo.\n",
        "\n",
        "while True:\n",
        "  user = input(\"Enter something to be repeated: \")\n",
        "\n",
        "  ## Quando o \"break\" é acionado, o print() abaixo NÃO será executado.\n",
        "  ## O programa romperá o loop quando esta palavra-chave for lida.\n",
        "  if user==\"end\":\n",
        "    print(\"Terminate the program!!!\")\n",
        "    break\n",
        "  print(user)"
      ],
      "metadata": {
        "colab": {
          "base_uri": "https://localhost:8080/"
        },
        "id": "pDGyGPPqywCF",
        "outputId": "3aaf8438-6c31-43a1-bcb8-b4d11f1fe938"
      },
      "execution_count": null,
      "outputs": [
        {
          "output_type": "stream",
          "name": "stdout",
          "text": [
            "Enter something to be repeated: end\n",
            "Terminate the program!!!\n"
          ]
        }
      ]
    },
    {
      "cell_type": "code",
      "source": [
        "end = False\n",
        "while end == False:\n",
        "  user = input(\"Enter something to be repeated: \")\n",
        "  if user==\"end\":\n",
        "    print(\"Program Ended!!!\")\n",
        "    end = True\n",
        "  else:\n",
        "    print(user)"
      ],
      "metadata": {
        "colab": {
          "base_uri": "https://localhost:8080/"
        },
        "id": "aI5YJ1_FzIeX",
        "outputId": "3175ae2f-3897-4964-d57d-db22d0ab84d3"
      },
      "execution_count": null,
      "outputs": [
        {
          "output_type": "stream",
          "name": "stdout",
          "text": [
            "Enter something to be repeated: k\n",
            "k\n",
            "Enter something to be repeated: end\n",
            "Program Ended!!!\n"
          ]
        }
      ]
    },
    {
      "cell_type": "code",
      "source": [
        "#meu modo\n",
        "count = 1\n",
        "\n",
        "while (count <=20):\n",
        "  if count % 5 == 0:\n",
        "    print(\"SKIPPED\")\n",
        "    count += 1\n",
        "  else:\n",
        "    print(count)\n",
        "    count += 1"
      ],
      "metadata": {
        "colab": {
          "base_uri": "https://localhost:8080/"
        },
        "id": "K2eVP3bAzWT0",
        "outputId": "e74aef91-116f-44be-8fb4-3fccf14c62ba"
      },
      "execution_count": null,
      "outputs": [
        {
          "output_type": "stream",
          "name": "stdout",
          "text": [
            "1\n",
            "2\n",
            "3\n",
            "4\n",
            "SKIPPED\n",
            "6\n",
            "7\n",
            "8\n",
            "9\n",
            "SKIPPED\n",
            "11\n",
            "12\n",
            "13\n",
            "14\n",
            "SKIPPED\n",
            "16\n",
            "17\n",
            "18\n",
            "19\n",
            "SKIPPED\n"
          ]
        }
      ]
    },
    {
      "cell_type": "code",
      "source": [
        "#atividade\n",
        "count = 1\n",
        "\n",
        "# Implementação do loop WHILE\n",
        "while count + 1 <= 20:\n",
        "  if count % 5 == 0:\n",
        "    print(\"SKIP\")\n",
        "    count += 1\n",
        "    continue\n",
        "  print(count)\n",
        "  count += 1"
      ],
      "metadata": {
        "colab": {
          "base_uri": "https://localhost:8080/"
        },
        "id": "6TyHbUpY1tCN",
        "outputId": "d66f1789-7530-4f70-afaf-cfdff281bc68"
      },
      "execution_count": null,
      "outputs": [
        {
          "output_type": "stream",
          "name": "stdout",
          "text": [
            "1\n",
            "2\n",
            "3\n",
            "4\n",
            "SKIP\n",
            "6\n",
            "7\n",
            "8\n",
            "9\n",
            "SKIP\n",
            "11\n",
            "12\n",
            "13\n",
            "14\n",
            "SKIP\n",
            "16\n",
            "17\n",
            "18\n",
            "19\n"
          ]
        }
      ]
    },
    {
      "cell_type": "code",
      "source": [
        "for i in range(1,20):\n",
        "  print(i)\n",
        "  if i % 5 == 0:\n",
        "    print(\"SKIPPED\")\n",
        "    i += 1\n",
        "  else:\n",
        "    i += 1\n"
      ],
      "metadata": {
        "colab": {
          "base_uri": "https://localhost:8080/"
        },
        "id": "L-dJXM_w1yso",
        "outputId": "6266f015-a70d-4679-9dc6-3634966b0d47"
      },
      "execution_count": null,
      "outputs": [
        {
          "output_type": "stream",
          "name": "stdout",
          "text": [
            "1\n",
            "2\n",
            "3\n",
            "4\n",
            "5\n",
            "SKIPPED\n",
            "6\n",
            "7\n",
            "8\n",
            "9\n",
            "10\n",
            "SKIPPED\n",
            "11\n",
            "12\n",
            "13\n",
            "14\n",
            "15\n",
            "SKIPPED\n",
            "16\n",
            "17\n",
            "18\n",
            "19\n"
          ]
        }
      ]
    },
    {
      "cell_type": "code",
      "source": [
        "\"\"\"\n",
        "Escreveremos nossa própria função que testa se um triângulo de 3 lados é um triângulo retângulo.\n",
        "Como não podemos controlar a ordem dos lados que o usuário nos dá (de tal forma que C é o comprimento mais longo),\n",
        "precisamos verificar manualmente se C é o comprimento mais longo (os comprimentos A e B podem estar em qualquer ordem).\n",
        "Caso contrário, nosso teorema de Pitágoras falhará.\n",
        "\"\"\"\n",
        "\n",
        "def isRightTriangle(a, b, c):\n",
        "\n",
        "  # Reatribuir valores variáveis para garantir que C seja o comprimento mais longo\n",
        "  if (max(a,b,c) != c):\n",
        "\n",
        "    # tmp armazena os valores anteriores de C, que não é o comprimento mais longo\n",
        "    tmp = c\n",
        "    c = max(a,b,c)\n",
        "\n",
        "    if a == c:\n",
        "      a = tmp\n",
        "    elif b == c:\n",
        "      b = tmp\n",
        "\n",
        "\n",
        "  # Aplicar a fórmula\n",
        "  if a**2 + b**2 == c**2:\n",
        "    print(\"Right Triangle\")\n",
        "\n",
        "    # Se o programa vê uma declaração Return, este é o FIM do programa/função\n",
        "    return True\n",
        "\n",
        "  # Estas duas linhas funcionarão SOMENTE quando a condição IF for falsa\n",
        "  print(\"NOT a right triangle\")\n",
        "  return False\n",
        "\n",
        "\n",
        "# Solicite ao usuário que insira 3 comprimentos\n",
        "def main():\n",
        "  a = input(\"Enter the length for the first edge of the triangle:\")\n",
        "  b = input(\"Enter the length for the second edge of the triangle:\")\n",
        "  c = input(\"Enter the length for the last edge of the triangle:\")\n",
        "\n",
        "  # As entradas do usuário são armazenadas como uma string, então nós as computamos para ser int\n",
        "  return isRightTriangle(int(a), int(b), int(c))\n",
        "\n",
        "if __name__ == \"__main__\":\n",
        "    main()\n"
      ],
      "metadata": {
        "colab": {
          "base_uri": "https://localhost:8080/"
        },
        "id": "BRCsEotV81Dr",
        "outputId": "8af3de70-53bf-4a40-f75a-94d096a2395e"
      },
      "execution_count": null,
      "outputs": [
        {
          "output_type": "stream",
          "name": "stdout",
          "text": [
            "Enter the length for the first edge of the triangle:3\n",
            "Enter the length for the second edge of the triangle:3\n",
            "Enter the length for the last edge of the triangle:4\n",
            "NOT a right triangle\n"
          ]
        }
      ]
    },
    {
      "cell_type": "code",
      "source": [
        "import string\n",
        "\n",
        "def isPalindrome(str):\n",
        "    # Remover pontuações e espaços em branco e converter para minúsculas\n",
        "    exclude = set(string.punctuation)\n",
        "    str = ''.join(ch for ch in str if ch not in exclude)\n",
        "    str = str.replace(\" \", \"\").lower()\n",
        "\n",
        "    # Comparar a string original com a string em ordem inversa e retornar o resultado da comparação\n",
        "    if str == str[::-1]:\n",
        "        return True\n",
        "    else:\n",
        "        return False\n",
        "\n",
        "# Solicitar ao usuário que introduza a sentença\n",
        "def main():\n",
        "    userSentence = input(\"Enter a sentence to be tested as a palindrome:\")\n",
        "\n",
        "    if isPalindrome(userSentence):\n",
        "        print(userSentence + \" is a palindrome!\")\n",
        "    else:\n",
        "        print(userSentence + \" is NOT a palindrome!\")\n",
        "\n",
        "if __name__ == \"__main__\":\n",
        "    main()\n"
      ],
      "metadata": {
        "colab": {
          "base_uri": "https://localhost:8080/"
        },
        "id": "M4b_XqYw6u4X",
        "outputId": "919a4966-1b82-4e56-cd8d-8b29968b7b24"
      },
      "execution_count": null,
      "outputs": [
        {
          "output_type": "stream",
          "name": "stdout",
          "text": [
            "Enter a sentence to be tested as a palindrome:tenet\n",
            "tenet is a palindrome!\n"
          ]
        }
      ]
    },
    {
      "cell_type": "code",
      "source": [
        "# Considere esta implementação da função que RETURN (retorna) uma string.\n",
        "# Anote a diferença entre main() e isPalindrom() após esta mudança.\n",
        "\n",
        "import string\n",
        "\n",
        "def isPalindrome(str):\n",
        "  exclude = set(string.punctuation)\n",
        "  str = ''.join(ch for ch in str if ch not in exclude)\n",
        "  str = str.replace(\" \", \"\").lower()\n",
        "  if str == str[::-1]:\n",
        "    return str + \" is a palindrome!\"\n",
        "  else:\n",
        "    return str + \" is NOT a palindrome!\"\n",
        "\n",
        "def main():\n",
        "  userSentence = input(\"Enter a sentence to be tested as a palindrome:\")\n",
        "  print(isPalindrome(userSentence))\n",
        "\n",
        "if __name__ == \"__main__\":\n",
        "    main()"
      ],
      "metadata": {
        "colab": {
          "base_uri": "https://localhost:8080/"
        },
        "id": "6ddSjoYr626N",
        "outputId": "8199cec7-5ff2-4b53-b9a1-20e41d0520ad"
      },
      "execution_count": null,
      "outputs": [
        {
          "output_type": "stream",
          "name": "stdout",
          "text": [
            "Enter a sentence to be tested as a palindrome:tenet tenet tenet\n",
            "tenettenettenet is a palindrome!\n"
          ]
        }
      ]
    },
    {
      "cell_type": "code",
      "source": [
        "\"\"\"\n",
        "Acima trabalhamos com um exemplo que testa se uma sentença é um palíndromo.\n",
        "Agora é a sua vez.\n",
        "\n",
        "Exercício: escreva uma função para testar se uma palavra do usuário é um palíndromo.\n",
        "\n",
        "As declarações de função são fornecidas para você.\n",
        "\"\"\"\n",
        "\n",
        "def isPalindrome(str):\n",
        "\n",
        "  if str == str[::-1]:\n",
        "    return True\n",
        "  else:\n",
        "    return False\n",
        "\n",
        "# Solicitar que o usuário digite a sentença\n",
        "def main():\n",
        "  userInput = input(\"Enter a WORD to be tested as a palindrome:\").lower()\n",
        "  palindrome = isPalindrome(userInput)\n",
        "\n",
        "  if palindrome:\n",
        "    print(userInput + \" is a palindrome!\")\n",
        "  else:\n",
        "    print(userInput + \" is NOT a palindrome!\")\n",
        "\n",
        "if __name__ == \"__main__\":\n",
        "    main()"
      ],
      "metadata": {
        "colab": {
          "base_uri": "https://localhost:8080/"
        },
        "id": "Qa7mjPBn88BC",
        "outputId": "487964c9-f7cb-4df9-c23e-d6ea4088cd77"
      },
      "execution_count": null,
      "outputs": [
        {
          "output_type": "stream",
          "name": "stdout",
          "text": [
            "Enter a WORD to be tested as a palindrome:TENET\n",
            "tenet is a palindrome!\n"
          ]
        }
      ]
    },
    {
      "cell_type": "code",
      "source": [
        "import random\n",
        "import os\n",
        "\n",
        "#Roleta Russa\n",
        "while True:\n",
        "  number = random.randint(1,10)\n",
        "  guess = int(input(\"Deal a number: \"))\n",
        "\n",
        "  if guess == number:\n",
        "    print(\"You Won!\")\n",
        "    break\n",
        "  else:\n",
        "    print(\"You Lose!\")\n",
        "    con = str(input(\"Want to play again? (y/n) --- \")).lower()\n",
        "    if con == \"y\":\n",
        "      continue\n",
        "    else:\n",
        "      print(\"OOOOOOOK noob\")\n",
        "      break"
      ],
      "metadata": {
        "id": "vh-efNHh-Fb3",
        "colab": {
          "base_uri": "https://localhost:8080/"
        },
        "outputId": "75d2d9d2-f8c3-4d50-f256-906e49f6d530"
      },
      "execution_count": null,
      "outputs": [
        {
          "output_type": "stream",
          "name": "stdout",
          "text": [
            "Deal a number: 9\n",
            "You Lose!\n",
            "Want to play again? (y/n) --- n\n",
            "OOOOOOOK noob\n"
          ]
        }
      ]
    },
    {
      "cell_type": "code",
      "source": [
        "for x in range(10):\n",
        "  print(x)"
      ],
      "metadata": {
        "id": "o0OX5qw7yKmf",
        "outputId": "32fd814c-7f0f-44a7-b630-ffa66d82f356",
        "colab": {
          "base_uri": "https://localhost:8080/"
        }
      },
      "execution_count": null,
      "outputs": [
        {
          "output_type": "stream",
          "name": "stdout",
          "text": [
            "0\n",
            "1\n",
            "2\n",
            "3\n",
            "4\n",
            "5\n",
            "6\n",
            "7\n",
            "8\n",
            "9\n"
          ]
        }
      ]
    },
    {
      "cell_type": "code",
      "source": [
        "nome = input(\"Input a name: \")\n",
        "\n",
        "if nome in [\"paulo\",\"joão\",\"black\"]:\n",
        "  print(\"Approved Access\")\n",
        "else:\n",
        "  print(\"Access Denied\")"
      ],
      "metadata": {
        "colab": {
          "base_uri": "https://localhost:8080/"
        },
        "id": "czpkMpXXUDSE",
        "outputId": "394697fa-b582-40cf-e00b-3c245bd8a23b"
      },
      "execution_count": null,
      "outputs": [
        {
          "output_type": "stream",
          "name": "stdout",
          "text": [
            "Input a name: joão\n",
            "Approved Access\n"
          ]
        }
      ]
    },
    {
      "cell_type": "code",
      "source": [
        "while True:\n",
        "    nmr = int(input(\"Dial a number: \"))\n",
        "\n",
        "    if nmr % 5 == 0 and nmr > 0:\n",
        "        print(\"POSITIVO E MÚLTIPLO DE 5\")\n",
        "\n",
        "    if nmr % 5 != 0:\n",
        "        if nmr % 2 == 0:\n",
        "            print(\"PAR\")\n",
        "        else:\n",
        "            print(\"ÍMPAR\")\n",
        "\n",
        "    if nmr == 0:\n",
        "      print(\"{0} end the process\")\n",
        "      break\n",
        "\n"
      ],
      "metadata": {
        "colab": {
          "base_uri": "https://localhost:8080/"
        },
        "id": "-yGfLLlkXJO2",
        "outputId": "9834ffeb-0af6-4216-88bf-44ce86434cf4"
      },
      "execution_count": null,
      "outputs": [
        {
          "output_type": "stream",
          "name": "stdout",
          "text": [
            "Dial a number: 0\n",
            "{0} end the process\n"
          ]
        }
      ]
    },
    {
      "cell_type": "code",
      "source": [
        "# Iniciar uma lista vazia\n",
        "list1 = []\n",
        "# OU\n",
        "list1 = list()\n",
        "\n",
        "# Iniciar uma lista com elementos\n",
        "list2 = ['hello', 'hola', 'olá']\n",
        "\n",
        "\"\"\"\n",
        "Os elementos da lista NÃO precisam ser do mesmo tipo, mas isto é incomum.\n",
        "Neste caso, cada lista poderia representar a série de informações sobre uma pessoa,\n",
        "mas é preciso lembrar quais informações são armazenadas em cada index. ---> Existe uma opção melhor para este propósito - dicionário.\n",
        "\"\"\"\n",
        "list3 = [\"John\", \"male\", 20, False]\n",
        "\n",
        "# Acess às informações armazenadas na lista por posição (\"index\")\n",
        "# Nota: em CS, a primeira posição é SEMPRE 0\n",
        "print(\"First element in list2 : \"+ list2[0])\n",
        "print(\"Second element in list2 : \"+ list2[1])\n",
        "\n",
        "# Inserir um novo elemento como um local específico, no index 1\n",
        "list2.insert(1,'hallo')\n",
        "list2[1]\n",
        "\n",
        "# Anexar um novo elemento no FIM da lista\n",
        "list2.append('bye')\n",
        "list2\n",
        "\n",
        "# Remover um elemento da lista especificando o elemento que você deseja remover\n",
        "list2.remove('hello')\n",
        "# list2 após o 'hello' é REMOVIDA\n",
        "list2\n",
        "\n",
        "\"\"\"\n",
        "Outra maneira de remover um elemento: pop()\n",
        "pop() permite que você identifique uma posição\n",
        "\"\"\"\n",
        "\n",
        "list2.append(\"hello\")\n",
        "\n",
        "list2.pop()\n",
        "\n",
        "list2\n",
        "\n",
        "\"\"\"\n",
        "As listas também podem ser ordenadas.\n",
        "O método de ordenação depende de como a interface comparável é implementada para os objetos da lista.\n",
        "\n",
        "Neste caso da list2, sort() funciona ordenando caracteres individuais na string de acordo com o código ASCII.\n",
        "\"\"\"\n",
        "list2.sort()\n",
        "list2\n",
        "\n",
        "\"\"\"\n",
        "Como a lista é dinâmica, significa que o tamanho da lista aumenta ou diminui à medida que inserimos ou removemos elementos,\n",
        "poderíamos executar len() para encontrar o tamanho da lista em um determinado momento.\n",
        "\"\"\"\n",
        "\n",
        "# Como len() retorna int, para concatená-la a uma string, precisamos computá-la.\n",
        "print(\"size of list1 = \" + str(len(list1)))\n",
        "print(\"size of list2 = \" + str(len(list2)))\n",
        "\n",
        "# Imprimir itens na lista como string, separados por uma vírgula\n",
        "\", \".join(list2)\n",
        "\n",
        "# Você também pode ter uma lista de listas. Por exemplo:\n",
        "\n",
        "lists = []\n",
        "lists.append([1,2,3])\n",
        "lists.append(['a','b','c'])\n",
        "\n",
        "lists\n",
        "\n",
        "# Da mesma forma, você pode indexar as listas multidimensionais.\n",
        "\n",
        "lists[1]\n",
        "\n",
        "lists[1][0]"
      ],
      "metadata": {
        "colab": {
          "base_uri": "https://localhost:8080/",
          "height": 105
        },
        "id": "R7UHj4Jxoqnp",
        "outputId": "78e143bb-1dae-470e-ce6f-09e727f5d491"
      },
      "execution_count": null,
      "outputs": [
        {
          "output_type": "stream",
          "name": "stdout",
          "text": [
            "First element in list2 : hello\n",
            "Second element in list2 : hola\n",
            "size of list1 = 0\n",
            "size of list2 = 4\n"
          ]
        },
        {
          "output_type": "execute_result",
          "data": {
            "text/plain": [
              "'a'"
            ],
            "application/vnd.google.colaboratory.intrinsic+json": {
              "type": "string"
            }
          },
          "metadata": {},
          "execution_count": 34
        }
      ]
    },
    {
      "cell_type": "code",
      "source": [
        "#Tupla\n",
        "\n",
        "# Inicializar uma tupla vazia\n",
        "y = tuple()\n",
        "y\n",
        "\n",
        "# Criar uma nova tupla de elementos\n",
        "x = (1,2,3)\n",
        "\n",
        "# ERROR: não pode ser adicionado a uma tupla\n",
        "x.append(4)\n",
        "\n",
        "# Isto é OK porque está criando uma nova tupla com x e (4,5,6) adicionado no final\n",
        "x + (4,5,6)\n",
        "\n",
        "# x NÃO é modificado pela linha anterior\n",
        "x\n",
        "(1, 2, 3)\n",
        "\n",
        "# Criar uma nova tupla com x aparecendo duas vezes\n",
        "x * 2\n",
        "(1, 2, 3, 1, 2, 3)\n",
        "\n",
        "# Index dos elementos na tupla\n",
        "x.index(3)\n",
        "\n",
        "# abreviação para\n",
        "#  (a,b,c) = (1,2,3)\n",
        "\n",
        "# Isto também atribui a = 1, b = 2, c = 3\n",
        "\n",
        "a,b,c = 1,2,3\n",
        "\n",
        "# Converter uma tupla em uma lista\n",
        "x = (1,2,3,4)\n",
        "list(x)\n",
        "\n",
        "# Converter uma lista em uma tupla\n",
        "x = [1,2,3,4]\n",
        "tuple(x)"
      ],
      "metadata": {
        "colab": {
          "base_uri": "https://localhost:8080/",
          "height": 235
        },
        "id": "3RjRaybGfonY",
        "outputId": "f17e57cd-8b46-4e44-fbbc-631a1d639d36"
      },
      "execution_count": null,
      "outputs": [
        {
          "output_type": "error",
          "ename": "AttributeError",
          "evalue": "ignored",
          "traceback": [
            "\u001b[0;31m---------------------------------------------------------------------------\u001b[0m",
            "\u001b[0;31mAttributeError\u001b[0m                            Traceback (most recent call last)",
            "\u001b[0;32m<ipython-input-61-c4ab902ac9b8>\u001b[0m in \u001b[0;36m<cell line: 11>\u001b[0;34m()\u001b[0m\n\u001b[1;32m      9\u001b[0m \u001b[0;34m\u001b[0m\u001b[0m\n\u001b[1;32m     10\u001b[0m \u001b[0;31m# ERROR: não pode ser adicionado a uma tupla\u001b[0m\u001b[0;34m\u001b[0m\u001b[0;34m\u001b[0m\u001b[0m\n\u001b[0;32m---> 11\u001b[0;31m \u001b[0mx\u001b[0m\u001b[0;34m.\u001b[0m\u001b[0mappend\u001b[0m\u001b[0;34m(\u001b[0m\u001b[0;36m4\u001b[0m\u001b[0;34m)\u001b[0m\u001b[0;34m\u001b[0m\u001b[0;34m\u001b[0m\u001b[0m\n\u001b[0m\u001b[1;32m     12\u001b[0m \u001b[0;34m\u001b[0m\u001b[0m\n\u001b[1;32m     13\u001b[0m \u001b[0;31m# Isto é OK porque está criando uma nova tupla com x e (4,5,6) adicionado no final\u001b[0m\u001b[0;34m\u001b[0m\u001b[0;34m\u001b[0m\u001b[0m\n",
            "\u001b[0;31mAttributeError\u001b[0m: 'tuple' object has no attribute 'append'"
          ]
        }
      ]
    },
    {
      "cell_type": "code",
      "source": [
        "#Tupla\n",
        "\n",
        "# Declarar uma nova tupla, nome \"person\"\n",
        "person  = ('Jane','Doe', 21)\n",
        "\n",
        "# \"Pacote\"/associar cada elemento da tupla com uma etiqueta. Observe a ordem das etiquetas.\n",
        "first, last, age = person\n",
        "\n",
        "print(first)\n",
        "print(last)\n",
        "print(age)"
      ],
      "metadata": {
        "colab": {
          "base_uri": "https://localhost:8080/"
        },
        "id": "GK5_7L8OhW5l",
        "outputId": "6a08abe3-83bc-43c5-87bf-3fad27a31378"
      },
      "execution_count": null,
      "outputs": [
        {
          "output_type": "stream",
          "name": "stdout",
          "text": [
            "Jane\n",
            "Doe\n",
            "21\n"
          ]
        }
      ]
    },
    {
      "cell_type": "code",
      "source": [
        "# ERROR: x é uma tupla de 4 valores, mas está tentando descompactar SOMENTE 3 elementos.\n",
        "# Incompatibilidade no tamanho da tupla\n",
        "x = (1,2,3,4)\n",
        "\n",
        "a,b,c,d = x\n",
        "print(a,b,c,d)\n",
        "print(x)"
      ],
      "metadata": {
        "colab": {
          "base_uri": "https://localhost:8080/"
        },
        "id": "ydqR1EdyhibC",
        "outputId": "77f04446-44d8-413f-c325-f7c19988b3bc"
      },
      "execution_count": null,
      "outputs": [
        {
          "output_type": "stream",
          "name": "stdout",
          "text": [
            "1 2 3 4\n",
            "(1, 2, 3, 4)\n"
          ]
        }
      ]
    },
    {
      "cell_type": "code",
      "source": [
        "#Conjunto\n",
        "\"\"\"Conjunto: uma estrutura de dados mutável que armazena objetos não duplicados e\n",
        "imutáveis e ordena os elementos em ordem ascendente. Cada elemento do conjunto é único.\"\"\"\n",
        "\n",
        "# Inicializar um conjunto vazio\n",
        "newSet = set()\n",
        "newSet\n",
        "\n",
        "newSet2 = set()\n",
        "newSet2\n",
        "\n",
        "# Um conjunto com elementos\n",
        "ex1 = {1, 2, 2, 1, 1}\n",
        "print(ex1)\n",
        "\n",
        "ex2 = {j for j in range(10)}\n",
        "print(ex2)\n",
        "\n",
        "# 2 já existe no ex2. O que acontece se quisermos acrescentar o 2 novamente?\n",
        "  # Nota: A implementação do conjunto NÃO definiu append(), então usaremos add().\n",
        "    # add() irá inserir o novo elemento na posição correta com a ordenação do conjunto\n",
        "\n",
        "ex2.add(2)\n",
        "ex2.add(100)\n",
        "ex2.add(50)\n",
        "ex2\n",
        "\n",
        "# Converter uma lista em um conjunto\n",
        "ages = [10, 5, 4, 5, 2, 1, 5]\n",
        "\n",
        "set_of_ages = set(ages)\n",
        "\n",
        "set_of_ages\n",
        "\n",
        "# Converter um conjunto em uma lista\n",
        "list_of_ages = list(set_of_ages)\n",
        "\n",
        "list_of_ages\n",
        "\n",
        "# Converter um conjunto em uma tupla\n",
        "tuple_of_ages = tuple(list_of_ages)\n",
        "\n",
        "tuple_of_ages\n",
        "\n",
        "# A ordem é irrelevante na comparação de conjuntos, uma vez que os elementos são ordenados\n",
        "\n",
        "{1,2,3} == {2,1,3}"
      ],
      "metadata": {
        "colab": {
          "base_uri": "https://localhost:8080/"
        },
        "id": "7MS9MZV-h1_g",
        "outputId": "ca778bf4-8603-4fc4-a58f-c9896949e378"
      },
      "execution_count": null,
      "outputs": [
        {
          "output_type": "stream",
          "name": "stdout",
          "text": [
            "{1, 2}\n",
            "{0, 1, 2, 3, 4, 5, 6, 7, 8, 9}\n"
          ]
        },
        {
          "output_type": "execute_result",
          "data": {
            "text/plain": [
              "True"
            ]
          },
          "metadata": {},
          "execution_count": 103
        }
      ]
    },
    {
      "cell_type": "code",
      "source": [
        "lista = [\"maca\", \"pera\"]\n",
        "iterable = [\"melancia\", \"banana\"]\n",
        "lista.extend(iterable)\n",
        "print(lista)"
      ],
      "metadata": {
        "colab": {
          "base_uri": "https://localhost:8080/"
        },
        "id": "1uEuwYkZ0I_F",
        "outputId": "0787fd02-6783-47f6-f2c5-84e072f8815f"
      },
      "execution_count": null,
      "outputs": [
        {
          "output_type": "stream",
          "name": "stdout",
          "text": [
            "['maca', 'pera', 'melancia', 'banana']\n"
          ]
        }
      ]
    },
    {
      "cell_type": "code",
      "source": [
        "#Dicionário\n",
        "#Dicionário: uma estrutura de dados que armazena pares de valores chave nos quais as chaves DEVEM ser objetos imutáveis.\n",
        "\n",
        "# Inicializar um dicionário vazio\n",
        "# O mesmo do conjunto, mas com:\n",
        "dict = {}\n",
        "\n",
        "# Declare um dicionário com pares de chaves/valores\n",
        "dict2 = {'a': 5, 'b': 10, 'c': 100, 'd': 9.5}\n",
        "\n",
        "dict2['b'] = 50\n",
        "dict2['b']\n",
        "\n",
        "dict2['z'] = 999\n",
        "\n",
        "dict2['z']"
      ],
      "metadata": {
        "id": "hin1PPxYoAFc",
        "colab": {
          "base_uri": "https://localhost:8080/"
        },
        "outputId": "242f4184-59b7-4bc0-d7b2-021205e27f00"
      },
      "execution_count": null,
      "outputs": [
        {
          "output_type": "execute_result",
          "data": {
            "text/plain": [
              "999"
            ]
          },
          "metadata": {},
          "execution_count": 13
        }
      ]
    },
    {
      "cell_type": "code",
      "source": [
        "dict = {}\n",
        "\n",
        "# Os valores no dicionário podem ser misturados\n",
        "# Vejamos um exemplo com dict{}, um dicionário vazio iniciado acima.\n",
        "# Primeiro, vamos inserir alguns pares de chaves/valores no programa.\n",
        "\n",
        "dict[\"greeting\"] = \"hello message\"\n",
        "dict[\"alphabet\"] = ['a', 'b', 'c', 'd', 'e']\n",
        "dict[\"check-in\"] = False\n",
        "dict[\"phoneNumber\"] = 8007782346\n",
        "\n",
        "dict"
      ],
      "metadata": {
        "colab": {
          "base_uri": "https://localhost:8080/"
        },
        "id": "990LffUK_Kuv",
        "outputId": "22e81de1-e6b1-431c-a1b2-684f9e14e325"
      },
      "execution_count": null,
      "outputs": [
        {
          "output_type": "execute_result",
          "data": {
            "text/plain": [
              "{'greeting': 'hello message',\n",
              " 'alphabet': ['a', 'b', 'c', 'd', 'e'],\n",
              " 'check-in': False,\n",
              " 'phoneNumber': 8007782346}"
            ]
          },
          "metadata": {},
          "execution_count": 14
        }
      ]
    },
    {
      "cell_type": "code",
      "source": [
        "dict3 = {}\n",
        "dict3[('a','b', 'c')] = [False, True, False]\n",
        "dict3"
      ],
      "metadata": {
        "colab": {
          "base_uri": "https://localhost:8080/"
        },
        "id": "aMyUdSdlASCx",
        "outputId": "4f52a671-d612-4ead-c199-ff529068f7e3"
      },
      "execution_count": null,
      "outputs": [
        {
          "output_type": "execute_result",
          "data": {
            "text/plain": [
              "{('a', 'b', 'c'): [False, True, False]}"
            ]
          },
          "metadata": {},
          "execution_count": 22
        }
      ]
    },
    {
      "cell_type": "code",
      "source": [
        "dict.keys()\n",
        "dict.values()\n",
        "dict.items()"
      ],
      "metadata": {
        "colab": {
          "base_uri": "https://localhost:8080/"
        },
        "id": "Cd2gOd8uAraK",
        "outputId": "7afe8ad7-c0db-4d45-82e4-e8b805315360"
      },
      "execution_count": null,
      "outputs": [
        {
          "output_type": "execute_result",
          "data": {
            "text/plain": [
              "dict_items([('greeting', 'hello message'), ('alphabet', ['a', 'b', 'c', 'd', 'e']), ('check-in', False), ('phoneNumber', 8007782346), (('a', 'b', 'c'), [False, True, False])])"
            ]
          },
          "metadata": {},
          "execution_count": 27
        }
      ]
    },
    {
      "cell_type": "markdown",
      "source": [
        "**Módulo 4: Programação Orientada à Objetos**"
      ],
      "metadata": {
        "id": "gvQB6xFHBGL-"
      }
    },
    {
      "cell_type": "code",
      "source": [
        "class Pessoa:\n",
        "    def __init__(self, nome, idade):\n",
        "        self.nome = nome\n",
        "        self.idade = idade\n",
        "\n",
        "    def exibir_info(self):\n",
        "        print(f\"Nome: {self.nome}, Idade: {self.idade}\")\n",
        "\n",
        "# Criando um objeto da classe Pessoa\n",
        "pessoa1 = Pessoa(\"Alice\", 30)\n",
        "pessoa2 = Pessoa(\"Bob\", 25)\n",
        "\n",
        "# Chamando o método exibir_info nos objetos\n",
        "pessoa1.exibir_info()  # Saída: Nome: Alice, Idade: 30\n",
        "pessoa2.exibir_info()  # Saída: Nome: Bob, Idade: 25\n"
      ],
      "metadata": {
        "colab": {
          "base_uri": "https://localhost:8080/"
        },
        "id": "O0M2XeoPCV5n",
        "outputId": "a2aa6565-8228-4da1-d6d6-f67c08af9375"
      },
      "execution_count": null,
      "outputs": [
        {
          "output_type": "stream",
          "name": "stdout",
          "text": [
            "Nome: Alice, Idade: 30\n",
            "Nome: Bob, Idade: 25\n"
          ]
        }
      ]
    },
    {
      "cell_type": "code",
      "source": [
        "class LibraryBook:\n",
        "    def __init__(self, title, author, pub_year, call_no):\n",
        "        self.title = title\n",
        "        self.author = author\n",
        "        self.pub_year = pub_year\n",
        "        self.call_number = call_no\n",
        "        self.checked_out = False\n",
        "\n",
        "# Criar uma instância da classe LibraryBook\n",
        "meu_livro = LibraryBook(\"Harry Potter e a Pedra Filosofal\", \"Rowling, J.K.\", 1998, \"PZ7.R79835\")\n",
        "\n",
        "# Acessar o autor do livro e imprimir\n",
        "print(meu_livro.author)  # Saída: Rowling, J.K.\n"
      ],
      "metadata": {
        "colab": {
          "base_uri": "https://localhost:8080/"
        },
        "id": "AwnVCm6QlcCG",
        "outputId": "8c7cd10d-9164-4811-f01b-bb78ed28ffa0"
      },
      "execution_count": null,
      "outputs": [
        {
          "output_type": "stream",
          "name": "stdout",
          "text": [
            "Rowling, J.K.\n"
          ]
        }
      ]
    },
    {
      "cell_type": "code",
      "source": [
        "class ClownFish:\n",
        "  pass\n",
        "nemo = ClownFish()\n",
        "type(nemo)\n",
        "\n",
        "isinstance(nemo, ClownFish)"
      ],
      "metadata": {
        "colab": {
          "base_uri": "https://localhost:8080/"
        },
        "id": "r8Jlabh0maT4",
        "outputId": "8cffb0ba-1d0c-47f8-e9e5-a800410c0047"
      },
      "execution_count": null,
      "outputs": [
        {
          "output_type": "execute_result",
          "data": {
            "text/plain": [
              "True"
            ]
          },
          "metadata": {},
          "execution_count": 10
        }
      ]
    },
    {
      "cell_type": "code",
      "source": [
        "class Animal(object):\n",
        "  def speak(self):\n",
        "    return \"blub\"\n",
        "class Vertebrate(Animal):\n",
        "    pass\n",
        "\n",
        "class Fish(Vertebrate):\n",
        "    pass\n",
        "\n",
        "class ClownFish(Fish):\n",
        "    def __init__(self, name):\n",
        "        self.name = name\n",
        "    def __str__(self):\n",
        "        return \"A ClownFish named \"+self.name\n",
        "nemo = ClownFish('Nemo')\n",
        "\n",
        "print(nemo)\n",
        "\n",
        "class TangFish(Fish):\n",
        "  def speak(self):\n",
        "    return \"Hello, I'm a TangFish instance.\"\n",
        "dory = TangFish()\n",
        "dory.speak()\n"
      ],
      "metadata": {
        "colab": {
          "base_uri": "https://localhost:8080/",
          "height": 53
        },
        "id": "FCZnBnWjnwBE",
        "outputId": "0cb1abf9-0278-4981-81fe-ed14cb4e072b"
      },
      "execution_count": null,
      "outputs": [
        {
          "output_type": "stream",
          "name": "stdout",
          "text": [
            "A ClownFish named Nem\n"
          ]
        },
        {
          "output_type": "execute_result",
          "data": {
            "text/plain": [
              "\"Hello, I'm a TangFish instance.\""
            ],
            "application/vnd.google.colaboratory.intrinsic+json": {
              "type": "string"
            }
          },
          "metadata": {},
          "execution_count": 36
        }
      ]
    },
    {
      "cell_type": "code",
      "source": [
        "vec = [-4, -2, 0, 2, 4]\n",
        "# create a new list with the values doubled\n",
        "[x*2 for x in vec]"
      ],
      "metadata": {
        "id": "EIFcwy5PxoUa",
        "outputId": "2a4d03f1-27aa-44b5-e806-a83ac9f6ce2c",
        "colab": {
          "base_uri": "https://localhost:8080/"
        }
      },
      "execution_count": null,
      "outputs": [
        {
          "output_type": "execute_result",
          "data": {
            "text/plain": [
              "[-8, -4, 0, 4, 8]"
            ]
          },
          "metadata": {},
          "execution_count": 4
        }
      ]
    },
    {
      "cell_type": "code",
      "source": [
        "user = {\n",
        "    \"compras\": 5000,\n",
        "    \"vendas\": 10000\n",
        "}\n",
        "\n",
        "vendas = user.get(\"vendas\")\n",
        "\n",
        "print(vendas)"
      ],
      "metadata": {
        "id": "Bvv3NE9dDEjT"
      },
      "execution_count": null,
      "outputs": []
    },
    {
      "cell_type": "code",
      "source": [
        "class Fish(Vertebrate):\n",
        "    def __init__(self, name):\n",
        "      self.name = name\n",
        "\n",
        "    def __str__(self):\n",
        "        return \"Hello, my name is {}\".format(self.name)\n",
        "\n",
        "class ClownFish(Fish):\n",
        "    def __init__(self, name):\n",
        "        self.name = name\n",
        "\n",
        "\n",
        "# Criando uma instância da classe ClownFish com o nome \"Nemo\"\n",
        "nemo = Fish('Clown_Fish')\n",
        "\n",
        "# Imprimindo a representação em string da instância nemo usando o método __str__\n",
        "print(nemo)\n"
      ],
      "metadata": {
        "colab": {
          "base_uri": "https://localhost:8080/"
        },
        "id": "fkqT12eUVHDB",
        "outputId": "a3b3d4d9-02ce-42a9-d627-b346817deefb"
      },
      "execution_count": null,
      "outputs": [
        {
          "output_type": "stream",
          "name": "stdout",
          "text": [
            "Hello, my name is Clown_Fish\n"
          ]
        }
      ]
    },
    {
      "cell_type": "code",
      "source": [
        "class Car():\n",
        "  def __init__(self, make, model, year):\n",
        "    self.make = make\n",
        "    self.model = model\n",
        "    self.year = year\n",
        "\n",
        "my_car = Car(\"Toyota\", \"Camry\", 2023)\n",
        "\n",
        "print(my_car.make)\n",
        "print(my_car.model)\n",
        "print(my_car.year)"
      ],
      "metadata": {
        "colab": {
          "base_uri": "https://localhost:8080/"
        },
        "id": "kOa9thdfaEb-",
        "outputId": "3186b3cb-956d-4587-a500-68ac796328ce"
      },
      "execution_count": null,
      "outputs": [
        {
          "output_type": "stream",
          "name": "stdout",
          "text": [
            "camry\n",
            "Toyota\n",
            "2023\n"
          ]
        }
      ]
    },
    {
      "cell_type": "code",
      "source": [
        "import math\n",
        "\n",
        "print(\"2^5 = \" + str(math.pow(2,5)))\n",
        "\n",
        "print(math.ceil(3.45))\n",
        "\n",
        "print(math.ceil(10.1))\n",
        "\n",
        "print(math.floor(3.45))\n",
        "\n",
        "print(math.floor(10.1))\n",
        "\n",
        "print(math.fabs(-10.33))\n",
        "\n",
        "print(math.fabs(5.25))\n",
        "\n",
        "print(math.log(10))\n",
        "\n",
        "print(math.log(10,10))\n",
        "\n"
      ],
      "metadata": {
        "colab": {
          "base_uri": "https://localhost:8080/"
        },
        "id": "Y_mOD_BRbMtq",
        "outputId": "1273998b-ebff-4381-f5e4-8a4b56c5e148"
      },
      "execution_count": null,
      "outputs": [
        {
          "output_type": "stream",
          "name": "stdout",
          "text": [
            "2^5 = 32.0\n",
            "4\n",
            "11\n",
            "3\n",
            "10\n",
            "10.33\n",
            "5.25\n",
            "2.302585092994046\n",
            "1.0\n"
          ]
        }
      ]
    },
    {
      "cell_type": "code",
      "source": [
        "[1,2,3]*3"
      ],
      "metadata": {
        "colab": {
          "base_uri": "https://localhost:8080/"
        },
        "id": "Stx70FWgeSlO",
        "outputId": "b9b21a7c-ef48-463b-b7a2-832bcce478a2"
      },
      "execution_count": null,
      "outputs": [
        {
          "output_type": "execute_result",
          "data": {
            "text/plain": [
              "[1, 2, 3, 1, 2, 3, 1, 2, 3]"
            ]
          },
          "metadata": {},
          "execution_count": 33
        }
      ]
    },
    {
      "cell_type": "code",
      "source": [
        "[i*3 for i in[1,2,3]]"
      ],
      "metadata": {
        "colab": {
          "base_uri": "https://localhost:8080/"
        },
        "id": "Kho-Y1fAiiCL",
        "outputId": "ae3b4aef-3733-4dcd-e279-869d5e6af047"
      },
      "execution_count": null,
      "outputs": [
        {
          "output_type": "execute_result",
          "data": {
            "text/plain": [
              "[3, 6, 9]"
            ]
          },
          "metadata": {},
          "execution_count": 34
        }
      ]
    },
    {
      "cell_type": "code",
      "source": [
        "[1,2,3] + [4,5,6]"
      ],
      "metadata": {
        "colab": {
          "base_uri": "https://localhost:8080/"
        },
        "id": "GVT0G7VQin9q",
        "outputId": "f9c87272-6c80-4d0f-a061-ea3ab88255d5"
      },
      "execution_count": null,
      "outputs": [
        {
          "output_type": "execute_result",
          "data": {
            "text/plain": [
              "[1, 2, 3, 4, 5, 6]"
            ]
          },
          "metadata": {},
          "execution_count": 35
        }
      ]
    },
    {
      "cell_type": "code",
      "source": [
        "a = [1,2,3]\n",
        "b = [4,5,6]\n",
        "[a[i] + b[i] for i in range(len(a))]"
      ],
      "metadata": {
        "colab": {
          "base_uri": "https://localhost:8080/"
        },
        "id": "gA-BYYYzirXP",
        "outputId": "49b03c2a-51d3-450f-ed34-85850868338d"
      },
      "execution_count": null,
      "outputs": [
        {
          "output_type": "execute_result",
          "data": {
            "text/plain": [
              "[5, 7, 9]"
            ]
          },
          "metadata": {},
          "execution_count": 36
        }
      ]
    },
    {
      "cell_type": "code",
      "source": [
        "[1,2,3] * [4,5,6]"
      ],
      "metadata": {
        "colab": {
          "base_uri": "https://localhost:8080/",
          "height": 175
        },
        "id": "1c2crJdli-wy",
        "outputId": "b866e2cd-cd81-4537-c8d3-15d1bd536110"
      },
      "execution_count": null,
      "outputs": [
        {
          "output_type": "error",
          "ename": "TypeError",
          "evalue": "ignored",
          "traceback": [
            "\u001b[0;31m---------------------------------------------------------------------------\u001b[0m",
            "\u001b[0;31mTypeError\u001b[0m                                 Traceback (most recent call last)",
            "\u001b[0;32m<ipython-input-37-d5e956d27113>\u001b[0m in \u001b[0;36m<cell line: 1>\u001b[0;34m()\u001b[0m\n\u001b[0;32m----> 1\u001b[0;31m \u001b[0;34m[\u001b[0m\u001b[0;36m1\u001b[0m\u001b[0;34m,\u001b[0m\u001b[0;36m2\u001b[0m\u001b[0;34m,\u001b[0m\u001b[0;36m3\u001b[0m\u001b[0;34m]\u001b[0m \u001b[0;34m*\u001b[0m \u001b[0;34m[\u001b[0m\u001b[0;36m4\u001b[0m\u001b[0;34m,\u001b[0m\u001b[0;36m5\u001b[0m\u001b[0;34m,\u001b[0m\u001b[0;36m6\u001b[0m\u001b[0;34m]\u001b[0m\u001b[0;34m\u001b[0m\u001b[0;34m\u001b[0m\u001b[0m\n\u001b[0m",
            "\u001b[0;31mTypeError\u001b[0m: can't multiply sequence by non-int of type 'list'"
          ]
        }
      ]
    },
    {
      "cell_type": "code",
      "source": [
        "u = [1,2,3]\n",
        "v = [4,5,6]\n",
        "\n",
        "total = 0\n",
        "for i in range(len(u)):\n",
        "    total += u[i] * v[i]\n",
        "total"
      ],
      "metadata": {
        "colab": {
          "base_uri": "https://localhost:8080/"
        },
        "id": "CwBkgoZSjDTW",
        "outputId": "2e5f08d2-e4dd-4dd2-eff0-fcb1eaf5e9c5"
      },
      "execution_count": null,
      "outputs": [
        {
          "output_type": "execute_result",
          "data": {
            "text/plain": [
              "32"
            ]
          },
          "metadata": {},
          "execution_count": 39
        }
      ]
    },
    {
      "cell_type": "code",
      "source": [
        "import numpy as np\n",
        "\n",
        "u = np.array([1,2,3])\n",
        "v = np.array([4,5,6])\n",
        "\n",
        "np.dot(u,v)\n",
        "\n"
      ],
      "metadata": {
        "colab": {
          "base_uri": "https://localhost:8080/"
        },
        "id": "XJ9S8vjMjg0h",
        "outputId": "e5702a6c-d16d-49ee-d605-7a5683948ffa"
      },
      "execution_count": null,
      "outputs": [
        {
          "output_type": "execute_result",
          "data": {
            "text/plain": [
              "numpy.ndarray"
            ]
          },
          "metadata": {},
          "execution_count": 41
        },
        {
          "output_type": "stream",
          "name": "stdout",
          "text": [
            "[1 2 3]\n"
          ]
        }
      ]
    },
    {
      "cell_type": "code",
      "source": [
        "import numpy as np\n",
        "u = np.array([1,2,3])\n",
        "v = np.array([4,5,6])\n",
        "\n",
        "print(\"Vector addition with another vector ---> \" + str(u+v))\n",
        "print(\"Vector addition with a scalar ---> \" + str(u+4))\n",
        "print(\"Vector multiplication by a scalar ---> \" + str(u * 4))\n",
        "print(\"Vector multiplication (NOT dot nor cross product) ---> \" + str(u * v))\n",
        "print(\"Vector sum ---> \" + str(np.sum(u * v)))\n",
        "print(\"Dot product ---> \" + str(np.dot(u,v)))"
      ],
      "metadata": {
        "colab": {
          "base_uri": "https://localhost:8080/"
        },
        "id": "uibcZKdVlHen",
        "outputId": "3606d7e6-6abc-4e36-97f0-fc3ca3e5b7dd"
      },
      "execution_count": null,
      "outputs": [
        {
          "output_type": "stream",
          "name": "stdout",
          "text": [
            "Vector addition with another vector ---> [5 7 9]\n",
            "Vector addition with a scalar ---> [5 6 7]\n",
            "Vector multiplication by a scalar ---> [ 4  8 12]\n",
            "Vector multiplication (NOT dot nor cross product) ---> [ 4 10 18]\n",
            "Vector sum ---> 32\n",
            "Dot product ---> 32\n"
          ]
        }
      ]
    },
    {
      "cell_type": "code",
      "source": [
        "u = np.ones((3,3,3))\n",
        "u\n",
        "u.shape\n"
      ],
      "metadata": {
        "colab": {
          "base_uri": "https://localhost:8080/"
        },
        "id": "WrPTlTkJnk8s",
        "outputId": "389c5de8-0c85-4edb-d0ac-2e88df1d7e80"
      },
      "execution_count": null,
      "outputs": [
        {
          "output_type": "execute_result",
          "data": {
            "text/plain": [
              "(3, 3, 3)"
            ]
          },
          "metadata": {},
          "execution_count": 47
        }
      ]
    },
    {
      "cell_type": "code",
      "source": [
        "np.ones((2,3))\n"
      ],
      "metadata": {
        "colab": {
          "base_uri": "https://localhost:8080/"
        },
        "id": "IW-zFoVvoSl9",
        "outputId": "06d50db7-08bc-485d-e05e-af6751ed5bb1"
      },
      "execution_count": null,
      "outputs": [
        {
          "output_type": "execute_result",
          "data": {
            "text/plain": [
              "array([[1., 1., 1.],\n",
              "       [1., 1., 1.]])"
            ]
          },
          "metadata": {},
          "execution_count": 56
        }
      ]
    },
    {
      "cell_type": "code",
      "source": [
        "np.ones((3, 2))\n"
      ],
      "metadata": {
        "colab": {
          "base_uri": "https://localhost:8080/"
        },
        "id": "sedBPtRbosta",
        "outputId": "5b572de8-506b-4ef6-d4f7-856e8c0f8748"
      },
      "execution_count": null,
      "outputs": [
        {
          "output_type": "execute_result",
          "data": {
            "text/plain": [
              "array([[1., 1.],\n",
              "       [1., 1.],\n",
              "       [1., 1.]])"
            ]
          },
          "metadata": {},
          "execution_count": 55
        }
      ]
    },
    {
      "cell_type": "code",
      "source": [
        "# Importar diferentes pacotes usados para análise de dados\n",
        "# ... \"as opt\" significa que o programador poderia usar a abreviatura de \"opt\" para se referir a esta biblioteca, em vez de digitar o nome completo\n",
        "import scipy.optimize as opt\n",
        "import numpy as np\n",
        "import matplotlib.pyplot as plt\n",
        "\n",
        "\n",
        "# Dados brutos inseridos manualmente pelo usuário\n",
        "I =[4.0, 3.5, 3.0, 2.5, 2.0]\n",
        "B =[1.31, 1.14, 0.97 ,0.81, 0.76]\n",
        "IError = [0.2, 0.2, 0.2, 0.2, 0.2]\n",
        "BError = [0.03, 0.02, 0.04, 0.02, 0.05]\n",
        "\n",
        "print(\"estimated B for each error \\n\")\n",
        "for i in range (5) :\n",
        "  print(str(I[i]) + \"+-\" + str(IError[i]) + \": \" + str(B[i]) + \"+-\" + str(BError[i]))\n",
        "\n",
        "# Aplicar a biblioteca Numpy para formatar a lista de dados brutos em uma matriz multidimensional\n",
        "# Isto é necessário para a otimização das funções e para o uso adequado do pacote Scipy\n",
        "xdata = np.array(I)\n",
        "ydata = np.array(B)\n",
        "xerror = np.array(IError)\n",
        "yerror= np.array(BError)\n",
        "\n",
        "\n",
        "# Definir função linear para ajuste\n",
        "def func(h, m, b):\n",
        "    return m*h + b\n",
        "\n",
        "# w dá o parâmetro estimado para m e b, armazenado na matriz quadrada de w e u\n",
        "# A informação que falta _ retornar sobre variância e covariância\n",
        "\n",
        "# w é uma matriz com informações sobre o valor da inclinação e do y-intercepção\n",
        "w, u = opt.curve_fit(func, xdata, ydata)\n",
        "\n",
        "# Aplicar coordenadas x e resultado otimizado sobre o ajuste da curva para encontrar a \"Linha do Melhor Ajuste\".\n",
        "yfit = func(xdata,*w)\n",
        "\n",
        "# Use o pacote Matplotlib para fazer gráficos de dados\n",
        "  # 1. Gráfico das barras de erro para cada valor x\n",
        "  # 2. Gráfico da \"Linha do Melhor Ajuste\"\n",
        "\n",
        "# Nota: há opções para personalizar o visual de seu gráfico com diferentes parâmetros\n",
        "plt.errorbar(I, B, xerr=IError, yerr = BError, fmt='o', ms = 3)\n",
        "plt.plot(xdata,yfit,label=\"Fit\", linewidth=1.5, linestyle='dashed')\n",
        "\n",
        "# Adicionar título e etiquetas ao gráfico\n",
        "plt.title('I vs. B of the Electromagnet')\n",
        "plt.xlabel('Electromagnet Current I (A)')\n",
        "plt.ylabel('Magnetic Field B (T)')\n",
        "\n",
        "print(\"\\n Estimated parameters of m and b: \", w)\n",
        "print(\"\\n Estimated variance of m & b: \", np.sqrt(np.diag(u)))\n",
        "\n",
        "# Se necessário, é assim que você poderia salvar o gráfico em sua máquina local.\n",
        "# Mas aqui NÃO precisamos salvar o gráfico, por isso comentaremos esta linha.\n",
        "\n",
        "# Especifique o nome da imagem como o parâmetro\n",
        "### plt.savefig('IvsB.jpg')\n",
        "\n",
        "# Nota: se você estiver mostrando e armazenando o gráfico, certifique-se de SALVAR antes de PROJETAR.\n",
        "plt.show()"
      ],
      "metadata": {
        "colab": {
          "base_uri": "https://localhost:8080/",
          "height": 663
        },
        "id": "PAePlEkAoxxI",
        "outputId": "48d60321-80c4-439d-81b4-c64c0bccf0a5"
      },
      "execution_count": null,
      "outputs": [
        {
          "output_type": "stream",
          "name": "stdout",
          "text": [
            "estimated B for each error \n",
            "\n",
            "4.0+-0.2: 1.31+-0.03\n",
            "3.5+-0.2: 1.14+-0.02\n",
            "3.0+-0.2: 0.97+-0.04\n",
            "2.5+-0.2: 0.81+-0.02\n",
            "2.0+-0.2: 0.76+-0.05\n",
            "\n",
            " Estimated parameters of m and b:  [0.286 0.14 ]\n",
            "\n",
            " Estimated variance of m & b:  [0.02778489 0.08563877]\n"
          ]
        },
        {
          "output_type": "display_data",
          "data": {
            "text/plain": [
              "<Figure size 640x480 with 1 Axes>"
            ],
            "image/png": "[encoded data removed]"
          },
          "metadata": {}
        }
      ]
    },
    {
      "cell_type": "code",
      "source": [
        "\"\"\"\n",
        "app.route define a URL e qual a função a ser executada para cada URL.\n",
        "\n",
        "Quando apenas '/' é especificado na URL, presume-se que seja a página inicial.\n",
        "Esta aplicação web fornecerá o texto '<h1>WELCOME to My Home Page</h1>'.\n",
        "no estilo cabeçalho 1.\n",
        "\n",
        "Quando a URL contém um nome na URL, o nome da URL é analisado para ser usado\n",
        "na função que serve a página web. Esta é conhecida como uma \"página web dinâmica\".\n",
        "\n",
        "Quando o admin é específico na URL, o admin() será executado para\n",
        "redirecionar a página para mostrar a página inicial.\n",
        "\n",
        "Consulte as imagens abaixo para obter uma visão de como é cada página.\n",
        "\"\"\"\n",
        "\n",
        "\n",
        "# Importar pacotes\n",
        "from flask import Flask, redirect, url_for\n",
        "\n",
        "app = Flask(__name__)\n",
        "\n",
        "@app.route(\"/\")\n",
        "def home():\n",
        "  return \"<h1>WELCOME to My Home Page</h1>\"\n",
        "\n",
        "@app.route(\"/<name>\")\n",
        "def user(name):\n",
        "  return f\"<h3>Hello, nice to meet you {name}!</h3>\"\n",
        "\n",
        "@app.route(\"/admin\")\n",
        "def admin():\n",
        "  return redirect(url_for(\"home\"))\n",
        "\n",
        "if __name__ == \"__main__\":\n",
        "  app.run()"
      ],
      "metadata": {
        "id": "bjMmj7QjqOPq"
      },
      "execution_count": null,
      "outputs": []
    }
  ]
}